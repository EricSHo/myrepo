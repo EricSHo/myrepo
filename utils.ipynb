{
  "nbformat": 4,
  "nbformat_minor": 0,
  "metadata": {
    "colab": {
      "provenance": [],
      "authorship_tag": "ABX9TyOGUOJ4+rFoR40BGQU0sg+7",
      "include_colab_link": true
    },
    "kernelspec": {
      "name": "python3",
      "display_name": "Python 3"
    },
    "language_info": {
      "name": "python"
    }
  },
  "cells": [
    {
      "cell_type": "markdown",
      "metadata": {
        "id": "view-in-github",
        "colab_type": "text"
      },
      "source": [
        "<a href=\"https://colab.research.google.com/github/EricSHo/myrepo/blob/master/utils.ipynb\" target=\"_parent\"><img src=\"https://colab.research.google.com/assets/colab-badge.svg\" alt=\"Open In Colab\"/></a>"
      ]
    },
    {
      "cell_type": "code",
      "execution_count": null,
      "metadata": {
        "colab": {
          "base_uri": "https://localhost:8080/"
        },
        "id": "pPUzEVyXzqIV",
        "outputId": "6f3cea5c-22e8-4e55-d2e0-78888b7c9692"
      },
      "outputs": [
        {
          "output_type": "stream",
          "name": "stdout",
          "text": [
            "2025-02-08 13:46:12\n"
          ]
        }
      ],
      "source": [
        "# this is used for import custom modules to colab\n",
        "\n",
        "import datetime\n",
        "\n",
        "def get_current_time():\n",
        "\tcurrent_time = datetime.datetime.now()\n",
        "\tformatted_time = current_time.strftime(\"%Y-%m-%d %H:%M:%S\")\n",
        "\treturn formatted_time"
      ]
    }
  ]
}